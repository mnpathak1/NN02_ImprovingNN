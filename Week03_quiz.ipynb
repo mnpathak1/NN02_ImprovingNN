{
 "cells": [
  {
   "cell_type": "markdown",
   "metadata": {
    "collapsed": true,
    "deletable": true,
    "editable": true
   },
   "source": [
    "#### 1. \n",
    "If searching among a large number of hyperparameters, you should try values in a grid rather than random values, so that you can carry out the search more systematically and not rely on chance. True or False?\n",
    "\n",
    "True\n",
    "\n",
    "False CORRECT"
   ]
  },
  {
   "cell_type": "markdown",
   "metadata": {},
   "source": [
    "#### 2. \n",
    "Every hyperparameter, if set poorly, can have a huge negative impact on training, and so all hyperparameters are about equally important to tune well. True or False?\n",
    "\n",
    "True\n",
    "\n",
    "False CORRECT"
   ]
  },
  {
   "cell_type": "markdown",
   "metadata": {},
   "source": [
    "#### 3. \n",
    "During hyperparameter search, whether you try to babysit one model (“Panda” strategy) or train a lot of models in parallel (“Caviar”) is largely determined by:\n",
    "\n",
    "Whether you use batch or mini-batch optimization\n",
    "\n",
    "The presence of local minima (and saddle points) in your neural network\n",
    "\n",
    "The amount of computational power you can access CORRECT\n",
    "\n",
    "The number of hyperparameters you have to tune"
   ]
  },
  {
   "cell_type": "markdown",
   "metadata": {},
   "source": [
    "#### 4\n",
    "\n",
    "If you think β (hyperparameter for momentum) is between on 0.9 and 0.99, which of the following is the recommended way to sample a value for beta?\n",
    "\n"
   ]
  },
  {
   "cell_type": "code",
   "execution_count": 15,
   "metadata": {
    "collapsed": false
   },
   "outputs": [],
   "source": [
    "import numpy as np\n",
    "\n",
    "#r = np.random.rand()\n",
    "r = 0.0000001\n",
    "beta = r*0.09 + 0.9 "
   ]
  },
  {
   "cell_type": "code",
   "execution_count": 16,
   "metadata": {
    "collapsed": false
   },
   "outputs": [
    {
     "name": "stdout",
     "output_type": "stream",
     "text": [
      "0.900000009 1e-07\n"
     ]
    }
   ],
   "source": [
    "print (beta, r)"
   ]
  },
  {
   "cell_type": "markdown",
   "metadata": {},
   "source": [
    "#### 5. \n",
    "Finding good hyperparameter values is very time-consuming. So typically you should do it once at the start of the project, and try to find very good hyperparameters so that you don’t ever have to revisit tuning them again. True or false?\n",
    "\n",
    "True\n",
    "\n",
    "False CORRECT"
   ]
  },
  {
   "cell_type": "markdown",
   "metadata": {},
   "source": [
    "#### 6. \n",
    "In batch normalization as presented in the videos, if you apply it on the lth layer of your neural network, what are you normalizing?\n",
    "\n",
    "W[l]\n",
    "\n",
    "z[l] CORRECT\n",
    "\n",
    "a[l]\n",
    "\n",
    "b[l]"
   ]
  },
  {
   "cell_type": "markdown",
   "metadata": {},
   "source": [
    "#### 7. \n",
    "In the normalization formula z(i)norm=z(i)−μσ2+ε√, why do we use epsilon?\n",
    "\n",
    "\n",
    "In case μ is too small\n",
    "\n",
    "To avoid division by zero CORRECT\n",
    "\n",
    "To speed up convergence\n",
    "\n",
    "To have a more accurate normalization"
   ]
  },
  {
   "cell_type": "markdown",
   "metadata": {},
   "source": [
    "#### 8. \n",
    "Which of the following statements about γ and β in Batch Norm are true?\n",
    "\n",
    "They set the mean and variance of the linear variable z[l] of a given layer. CORRECT\n",
    "\n",
    "They can be learned using Adam, Gradient descent with momentum, or RMSprop, not just with gradient descent. CORRECT\n",
    "\n",
    "β and γ are hyperparameters of the algorithm, which we tune via random sampling.\n",
    "\n",
    "The optimal values are γ=sqrt(σ2+ε), and β=μ.\n",
    "\n",
    "There is one global value of γ∈R and one global value of β∈R for each layer, and applies to all the hidden units in that layer."
   ]
  },
  {
   "cell_type": "markdown",
   "metadata": {},
   "source": [
    "#### 9. \n",
    "After training a neural network with Batch Norm, at test time, to evaluate the neural network on a new example you should:\n",
    "\n",
    "Perform the needed normalizations, use μ and σ2 estimated using an exponentially weighted average across mini-batches seen during training. CORRECT\n",
    "\n",
    "Skip the step where you normalize using μ and σ2 since a single test example cannot be normalized.\n",
    "\n",
    "If you implemented Batch Norm on mini-batches of (say) 256 examples, then to evaluate on one test example, duplicate that example 256 times so that you’re working with a mini-batch the same size as during training.\n",
    "\n",
    "Use the most recent mini-batch’s value of μ and σ2 to perform the needed normalizations."
   ]
  },
  {
   "cell_type": "markdown",
   "metadata": {},
   "source": [
    "#### 10. \n",
    "Which of these statements about deep learning programming frameworks are true? (Check all that apply)\n",
    "\n",
    "A programming framework allows you to code up deep learning algorithms with typically fewer lines of code than a lower-level language such as Python. CORRECT  \n",
    "\n",
    "Deep learning programming frameworks require cloud-based machines to run.\n",
    "\n",
    "Even if a project is currently open source, good governance of the project helps ensure that the it remains open even in the long term, rather than become closed or modified to benefit only one company.  CORRECT"
   ]
  },
  {
   "cell_type": "code",
   "execution_count": null,
   "metadata": {
    "collapsed": true
   },
   "outputs": [],
   "source": []
  }
 ],
 "metadata": {
  "kernelspec": {
   "display_name": "Python 3",
   "language": "python",
   "name": "python3"
  },
  "language_info": {
   "codemirror_mode": {
    "name": "ipython",
    "version": 3
   },
   "file_extension": ".py",
   "mimetype": "text/x-python",
   "name": "python",
   "nbconvert_exporter": "python",
   "pygments_lexer": "ipython3",
   "version": "3.6.2"
  }
 },
 "nbformat": 4,
 "nbformat_minor": 0
}
