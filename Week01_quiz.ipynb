{
 "cells": [
  {
   "cell_type": "markdown",
   "metadata": {},
   "source": [
    "#### 1\n",
    "\n",
    "If you have 10,000,000 examples, how would you split the train/dev/test set?\n",
    "\n",
    "98% train . 1% dev . 1% test  (training set is very big in NN since dataset is big)"
   ]
  },
  {
   "cell_type": "markdown",
   "metadata": {},
   "source": [
    "#### 2\n",
    "\n",
    "The dev and test set should:\n",
    "\n",
    "Come from the same distribution CORRECT  \n",
    "\n",
    "Come from different distributions  \n",
    "\n",
    "Be identical to each other (same (x,y) pairs)  \n",
    "\n",
    "Have the same number of examples  "
   ]
  },
  {
   "cell_type": "markdown",
   "metadata": {},
   "source": [
    "#### 3\n",
    "\n",
    "If your Neural Network model seems to have high bias, what of the following would be promising things to try? (Check all that apply.)  \n",
    "\n",
    "Make the Neural Network deeper CORRECT  \n",
    "\n",
    "Add regularization  \n",
    "\n",
    "Get more test data  \n",
    "\n",
    "Get more training data  \n",
    "\n",
    "Increase the number of units in each hidden layer CORRECT  "
   ]
  },
  {
   "cell_type": "markdown",
   "metadata": {},
   "source": [
    "#### 4\n",
    "\n",
    "You are working on an automated check-out kiosk for a supermarket, and are building a classifier for apples, bananas and oranges. Suppose your classifier obtains a training set error of 0.5%, and a dev set error of 7%. Which of the following are promising things to try to improve your classifier? (Check all that apply.)\n",
    "\n",
    "Increase the regularization parameter lambda CORRECT\n",
    "\n",
    "Decrease the regularization parameter lambda\n",
    "\n",
    "Get more training data CORRECT\n",
    "\n",
    "Use a bigger neural network"
   ]
  },
  {
   "cell_type": "markdown",
   "metadata": {},
   "source": [
    "#### 5\n",
    "\n",
    "What is weight decay?\n",
    "\n",
    "Gradual corruption of the weights in the neural network if it is trained on noisy data.  \n",
    "\n",
    "A regularization technique (such as L2 regularization) that results in gradient descent shrinking the weights on every iteration. CORRECT  \n",
    "\n",
    "A technique to avoid vanishing gradient by imposing a ceiling on the values of the weights.  \n",
    "\n",
    "The process of gradually decreasing the learning rate during training.  "
   ]
  },
  {
   "cell_type": "markdown",
   "metadata": {},
   "source": [
    "#### 6\n",
    "\n",
    "What happens when you increase the regularization hyperparameter lambda?\n",
    "\n",
    "Weights are pushed toward becoming smaller (closer to 0) CORRECT\n",
    "\n",
    "Weights are pushed toward becoming bigger (further from 0)\n",
    "\n",
    "Doubling lambda should roughly result in doubling the weights\n",
    "\n",
    "Gradient descent taking bigger steps with each iteration (proportional to lambda)"
   ]
  },
  {
   "cell_type": "markdown",
   "metadata": {},
   "source": [
    "#### 7\n",
    "\n",
    "With the inverted dropout technique, at test time:\n",
    "\n",
    "You apply dropout (randomly eliminating units) and do not keep the 1/keep_prob factor in the calculations used in training\n",
    "\n",
    "You do not apply dropout (do not randomly eliminate units) and do not keep the 1/keep_prob factor in the calculations used in training CORRECT\n",
    "\n",
    "You apply dropout (randomly eliminating units) but keep the 1/keep_prob factor in the calculations used in training.\n",
    "\n",
    "You do not apply dropout (do not randomly eliminate units), but keep the 1/keep_prob factor in the calculations used in training."
   ]
  },
  {
   "cell_type": "markdown",
   "metadata": {},
   "source": [
    "#### 8\n",
    "\n",
    "Increasing the parameter keep_prob from (say) 0.5 to 0.6 will likely cause the following: (Check the two that apply)\n",
    "\n",
    "Increasing the regularization effect\n",
    "\n",
    "Reducing the regularization effect CORRECT\n",
    "\n",
    "Causing the neural network to end up with a higher training set error\n",
    "\n",
    "Causing the neural network to end up with a lower training set error CORRECT"
   ]
  },
  {
   "cell_type": "markdown",
   "metadata": {},
   "source": [
    "#### 9\n",
    "\n",
    "Which of these techniques are useful for reducing variance (reducing overfitting)? (Check all that apply.)\n",
    "\n",
    "Gradient Checking\n",
    "\n",
    "Vanishing gradient\n",
    "\n",
    "Dropout CORRECT\n",
    "\n",
    "Data augmentation CORRECT\n",
    "\n",
    "Xavier initialization\n",
    "\n",
    "Exploding gradient\n",
    "\n",
    "L2 regularization CORRECT"
   ]
  },
  {
   "cell_type": "markdown",
   "metadata": {},
   "source": [
    "#### 10\n",
    "\n",
    "\n",
    "Why do we normalize the inputs x?\n",
    "\n",
    "It makes it easier to visualize the data\n",
    "\n",
    "Normalization is another word for regularization--It helps to reduce variance\n",
    "\n",
    "It makes the parameter initialization faster\n",
    "\n",
    "It makes the cost function faster to optimize CORRECT"
   ]
  }
 ],
 "metadata": {
  "kernelspec": {
   "display_name": "Python 3",
   "language": "python",
   "name": "python3"
  },
  "language_info": {
   "codemirror_mode": {
    "name": "ipython",
    "version": 3
   },
   "file_extension": ".py",
   "mimetype": "text/x-python",
   "name": "python",
   "nbconvert_exporter": "python",
   "pygments_lexer": "ipython3",
   "version": "3.6.2"
  }
 },
 "nbformat": 4,
 "nbformat_minor": 0
}
