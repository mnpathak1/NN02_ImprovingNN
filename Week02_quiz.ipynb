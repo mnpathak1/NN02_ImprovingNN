{
 "cells": [
  {
   "cell_type": "markdown",
   "metadata": {},
   "source": [
    "#### 1\n",
    "\n",
    "Which notation would you use to denote the 3rd layer’s activations when the input is the 7th example from the 8th minibatch?\n",
    "\n",
    "a^[3]{8}(7)  CORRECT\n",
    "\n",
    "a^[8]{7}(3)\n",
    "\n",
    "a^[3]{7}(8)\n",
    "\n",
    "a^[8]{3}(7)"
   ]
  },
  {
   "cell_type": "markdown",
   "metadata": {},
   "source": [
    "#### 2\n",
    "\n",
    "\n",
    "Which of these statements about mini-batch gradient descent do you agree with?\n",
    "\n",
    "You should implement mini-batch gradient descent without an explicit for-loop over different mini-batches, so that the algorithm processes all mini-batches at the same time (vectorization).\n",
    "\n",
    "One iteration of mini-batch gradient descent (computing on a single mini-batch) is faster than one iteration of batch gradient descent. CORRECT\n",
    "\n",
    "Training one epoch (one pass through the training set) using mini-batch gradient descent is faster than training one epoch using batch gradient descent."
   ]
  },
  {
   "cell_type": "markdown",
   "metadata": {},
   "source": [
    "#### 3\n",
    "\n",
    "Why is the best mini-batch size usually not 1 and not m, but instead something in-between?\n",
    "\n",
    "If the mini-batch size is m, you end up with stochastic gradient descent, which is usually slower than mini-batch gradient descent.\n",
    "\n",
    "If the mini-batch size is m, you end up with batch gradient descent, which has to process the whole training set before making progress. CORRECT\n",
    "\n",
    "If the mini-batch size is 1, you end up having to process the entire training set before making any progress.\n",
    "\n",
    "If the mini-batch size is 1, you lose the benefits of vectorization across examples in the mini-batch."
   ]
  },
  {
   "cell_type": "markdown",
   "metadata": {},
   "source": [
    "#### 4\n",
    "\n",
    "Suppose your learning algorithm’s cost J, plotted as a function of the number of iterations, looks like this:\n",
    "\n",
    "Which of the following do you agree with?\n",
    "\n",
    "\n",
    "Whether you’re using batch gradient descent or mini-batch gradient descent, something is wrong.\n",
    "\n",
    "Whether you’re using batch gradient descent or mini-batch gradient descent, this looks acceptable.\n",
    "\n",
    "If you’re using mini-batch gradient descent, this looks acceptable. But if you’re using batch gradient descent, something is wrong. CORRECT\n",
    "\n",
    "If you’re using mini-batch gradient descent, something is wrong. But if you’re using batch gradient descent, this looks acceptable."
   ]
  },
  {
   "cell_type": "markdown",
   "metadata": {},
   "source": [
    "#### 5\n",
    "\n",
    "Suppose the temperature in Casablanca over the first three days of January are the same:\n",
    "\n",
    "Jan 1st: θ1=10oC\n",
    "Jan 2nd: θ210oC\n",
    "(We used Fahrenheit in lecture, so will use Celsius here in honor of the metric world.)\n",
    "\n",
    "Say you use an exponentially weighted average with β=0.5 to track the temperature: v0=0, vt=βvt−1+(1−β)θt. If v2 is the value computed after day 2 without bias correction, and vcorrected2 is the value you compute with bias correction. What are these values? (You might be able to do this without a calculator, but you don't actually need one. Remember what is bias correction doing.)\n",
    "\n",
    "v2=7.5, vcorrected2=7.5\n",
    "\n",
    "v2=7.5, vcorrected2=10 CORRECT\n",
    "\n",
    "v2=10, vcorrected2=7.5\n",
    "\n",
    "v2=10, vcorrected2=10"
   ]
  },
  {
   "cell_type": "markdown",
   "metadata": {},
   "source": [
    "#### 6\n",
    "\n",
    "Which of these is NOT a good learning rate decay scheme? Here, t is the epoch number.\n",
    "\n",
    "α=1t√α0\n",
    "\n",
    "α=0.95tα0\n",
    "\n",
    "α=11+2∗tα0\n",
    "\n",
    "α=etα0 CORRECT"
   ]
  },
  {
   "cell_type": "markdown",
   "metadata": {},
   "source": [
    "#### 7\n",
    "\n",
    "You use an exponentially weighted average on the London temperature dataset. You use the following to track the temperature: vt=βvt−1+(1−β)θt. The red line below was computed using β=0.9. What would happen to your red curve as you vary β? (Check the two that apply)\n",
    "\n",
    "Decreasing β will shift the red line slightly to the right.\n",
    "\n",
    "Increasing β will shift the red line slightly to the right. CORRECT\n",
    "\n",
    "Decreasing β will create more oscillation within the red line.CORRECT\n",
    "\n",
    "Increasing β will create more oscillations within the red line."
   ]
  },
  {
   "cell_type": "markdown",
   "metadata": {},
   "source": [
    "#### 8\n",
    "\n",
    "Consider this figure:\n",
    "\n",
    "\n",
    "These plots were generated with gradient descent; with gradient descent with momentum (β = 0.5) and gradient descent with momentum (β = 0.9). Which curve corresponds to which algorithm?\n",
    "\n",
    "(1) is gradient descent with momentum (small β), (2) is gradient descent with momentum (small β), (3) is gradient descent\n",
    "\n",
    "(1) is gradient descent. (2) is gradient descent with momentum (large β) . (3) is gradient descent with momentum (small β)\n",
    "\n",
    "(1) is gradient descent with momentum (small β). (2) is gradient descent. (3) is gradient descent with momentum (large β)\n",
    "\n",
    "(1) is gradient descent. (2) is gradient descent with momentum (small β). (3) is gradient descent with momentum (large β) CORRECT"
   ]
  },
  {
   "cell_type": "markdown",
   "metadata": {},
   "source": [
    "#### 9\n",
    "\n",
    "Suppose batch gradient descent in a deep network is taking excessively long to find a value of the parameters that achieves a small value for the cost function J(W[1],b[1],...,W[L],b[L]). Which of the following techniques could help find parameter values that attain a small value forJ? (Check all that apply)\n",
    "\n",
    "Try mini-batch gradient descent CORRECT\n",
    "\n",
    "Try better random initialization for the weights CORRECT\n",
    "\n",
    "Try initializing all the weights to zero\n",
    "\n",
    "Try tuning the learning rate α CORRECT\n",
    "\n",
    "Try using Adam CORRECT"
   ]
  },
  {
   "cell_type": "markdown",
   "metadata": {},
   "source": [
    "#### 10\n",
    "\n",
    "Which of the following statements about Adam is False?\n",
    "\n",
    "Adam combines the advantages of RMSProp and momentum\n",
    "\n",
    "The learning rate hyperparameter α in Adam usually needs to be tuned.\n",
    "\n",
    "We usually use “default” values for the hyperparameters β1,β2 and ε in Adam (β1=0.9, β2=0.999, ε=10−8)\n",
    "\n",
    "Adam should be used with batch gradient computations, not with mini-batches. FALSE"
   ]
  }
 ],
 "metadata": {
  "kernelspec": {
   "display_name": "Python 3",
   "language": "python",
   "name": "python3"
  },
  "language_info": {
   "codemirror_mode": {
    "name": "ipython",
    "version": 3
   },
   "file_extension": ".py",
   "mimetype": "text/x-python",
   "name": "python",
   "nbconvert_exporter": "python",
   "pygments_lexer": "ipython3",
   "version": "3.6.2"
  }
 },
 "nbformat": 4,
 "nbformat_minor": 0
}
